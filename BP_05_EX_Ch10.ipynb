{
  "nbformat": 4,
  "nbformat_minor": 0,
  "metadata": {
    "colab": {
      "provenance": [],
      "authorship_tag": "ABX9TyMG6ii7a/kkHj9UhS7QL7IF",
      "include_colab_link": true
    },
    "kernelspec": {
      "name": "python3",
      "display_name": "Python 3"
    },
    "language_info": {
      "name": "python"
    }
  },
  "cells": [
    {
      "cell_type": "markdown",
      "metadata": {
        "id": "view-in-github",
        "colab_type": "text"
      },
      "source": [
        "<a href=\"https://colab.research.google.com/github/GijooHong/BP_05_Ch10/blob/main/BP_05_EX_Ch10.ipynb\" target=\"_parent\"><img src=\"https://colab.research.google.com/assets/colab-badge.svg\" alt=\"Open In Colab\"/></a>"
      ]
    },
    {
      "cell_type": "markdown",
      "source": [
        "1. 다음과 같이 하나의 레이블과 2개의 버튼을 가지는 프로그램을 작성해보자."
      ],
      "metadata": {
        "id": "5X8Ay8dBjTk1"
      }
    },
    {
      "cell_type": "code",
      "source": [
        "from tkinter import Tk, Label, Button\n",
        "\n",
        "def greet():\n",
        "  print(\"파이썬에 오신 것을 환영합니다. \")\n",
        "\n",
        "window = Tk()\n",
        "label = Label(window, text=\"간단한 GUI 프로그램!\")    #상단 표시 글자\n",
        "label.pack()\n",
        "\n",
        "greet_button = Button(window, text=\"환영합니다.\", command=greet)    #위 버튼 표시 글자\n",
        "greet_button.pack()\n",
        "\n",
        "close_button = Button(window, text=\"종료\", command=window.quit)   #아래 버튼 표시 글자\n",
        "close_button.pack()\n",
        "\n",
        "window.mainloop()"
      ],
      "metadata": {
        "id": "xVMv_Y-Lj5mw"
      },
      "execution_count": null,
      "outputs": []
    },
    {
      "cell_type": "markdown",
      "source": [
        "2. 숫자를 입력하고 \"더하기\" 버튼을 누르면 합계에 더해지고 \"빼기\" 버튼을 누르면 합계에서 빼지는 계산기를 작성하여 본다."
      ],
      "metadata": {
        "id": "7C4fTUkoj6Kb"
      }
    },
    {
      "cell_type": "code",
      "source": [
        "from tkinter import Tk, Label, Button, Entry, IntVar, END, W, E\n",
        "# 내가 입력한 값을 entry.get()으로 읽어서 정수로 변환한 후에 변수 total에 합침. 이 값을 레이블에 표시하면 됨\n",
        "def update_add():\n",
        "  update(\"add\")\n",
        "\n",
        "def update_subtract():\n",
        "  update(\"subtract\")\n",
        "\n",
        "def update_reset():\n",
        "  update(\"reset\")\n",
        "\n",
        "window = Tk()\n",
        "total = 0\n",
        "sum = Label(window)\n",
        "sum.grid(row=0, column=1, columnspan=2)\n",
        "label = Label(window, text=\"현재 합계:\")\n",
        "label.grid(row=0, column=0)\n",
        "\n",
        "entry = Entry(window)\n",
        "entry.grid(row=1, column=0, columnspan=3)\n",
        "\n",
        "add_button = Button(window, text=\"더하기(+)\", command=update_add)\n",
        "subtract_button = Button(window, text=\"뺴기(-)\", command=update_subtract)\n",
        "reset_button = Button(window, text=\"초기화\", command=update_reset)\n",
        "\n",
        "add_button.grid(row=2, column=0)\n",
        "subtract_button.grid(row=2, column=1)\n",
        "reset_button.grid(row=2, column=2)\n",
        "\n",
        "def update(method):\n",
        "  global total\n",
        "  if method == \"add\":\n",
        "    total += int(entry.get())\n",
        "  elif method == \"subtract\":\n",
        "    total -= int(entry.get())\n",
        "  else:\n",
        "    total = 0\n",
        "  sum['text'] = str(total)\n",
        "  entry.delete(0, END)\n",
        "\n",
        "window.mainloop()        "
      ],
      "metadata": {
        "id": "5t7pUIF6kHKT"
      },
      "execution_count": null,
      "outputs": []
    },
    {
      "cell_type": "markdown",
      "source": [
        "3. 우리가 앞에서 텍스트 버전으로 제작하였던 숫자 맞추기 게임을 그래픽 사용자 인터페이스 버전으로 작성해보자."
      ],
      "metadata": {
        "id": "2LJpRxAgkHU6"
      }
    },
    {
      "cell_type": "code",
      "source": [
        "import random         #내가 직접 설정하는게 아니라 랜덤으로 정하는 것\n",
        "from tkinter import *\n",
        "\n",
        "window = Tk()\n",
        "secret_number = random.randint(1,100)   #두 수 사이의 숫자를 랜덤으로 정한다\n",
        "guess = None\n",
        "num_guesses = 0\n",
        "\n",
        "def guess_number():\n",
        "  global num_guesses\n",
        "  guess = int(entry.get())\n",
        "  num_guesses +=1\n",
        "  if guess == secret_number:\n",
        "    message = \"축하합니다!!\"          #랜덤으로 정한 숫자를 정확히 맞추었을 시\n",
        "  elif guess < secret_number:\n",
        "    message = \"너무 낮아요!!\"         #랜덤으로 정한 숫자가 더 높을 시\n",
        "  else:\n",
        "    message = \"너무 높아요!!\"         #랜덤으로 정한 숫자가 더 낮을 시\n",
        "  label['text']= message\n",
        "\n",
        "def reset():\n",
        "  global num_guesses\n",
        "  entry.delete(0, END)\n",
        "  secret_number = random.randint(1,100)\n",
        "  guess = 0\n",
        "  num_guesses = 0\n",
        "  message = \"1부터 100사이의 숫자를 추측하시오\"\n",
        "  label['text']= message\n",
        "\n",
        "message = \"1부터 100사이의 숫자를 추측하시오\"\n",
        "label = Label(window, text=message)\n",
        "entry = Entry(window)\n",
        "\n",
        "guess_button = Button(window, text=\"숫자를 입력\", command=guess_number)\n",
        "reset_button = Button(window, text=\"게임을 다시 실행\", command=reset)\n",
        "\n",
        "label.grid(row=0, column=0, columnspan=2, sticky=W+E)\n",
        "entry.grid(row=1, column=0, columnspan=2, sticky=W+E)\n",
        "guess_button.grid(row=2, column=0)\n",
        "reset_button.grid(row=2, column=1)\n",
        "\n",
        "window.mainloop()"
      ],
      "metadata": {
        "id": "89h1YdINkOHM"
      },
      "execution_count": null,
      "outputs": []
    },
    {
      "cell_type": "markdown",
      "source": [
        "4. 인치를 센티미터로 변환하는 다음과 같은 프로그램을 작성해보자."
      ],
      "metadata": {
        "id": "7qZPEyIMkOV8"
      }
    },
    {
      "cell_type": "code",
      "source": [
        "from tkinter import *\n",
        "\n",
        "def do_convert():\n",
        "  inch_val = float(cvt_from.get())\n",
        "  centimeters_val = inch_val * 2.54     #1인치는 2.54cm 라는 것을 설정하는것?\n",
        "  cvt_to.set('%s 센티미터' % centimeters_val)\n",
        "\n",
        "root = Tk()\n",
        "cvt_from = StringVar()\n",
        "cvt_to = StringVar()\n",
        "\n",
        "Ibl = Label(root, text='인치를 센티미터로 변환하는 프로그램:')      #tk에서 노출되는 글자 설정\n",
        "Ibl.grid(row=0, column=0, columnspan=2)\n",
        "from_Ibl = Label(root, text='인치를 입력하시오:')\n",
        "from_Ibl.grid(row=1, column=0)\n",
        "from_entry = Entry(root, textvariable=cvt_from)\n",
        "from_entry.grid(row=1, column=1)\n",
        "\n",
        "to_Ibl = Label(root, text='변환결과:')        #결과창에서 노출되는 글자 설정\n",
        "to_Ibl.grid(row=2, column=0)\n",
        "result_Ibl = Label(root, textvariable=cvt_to)\n",
        "result_Ibl.grid(row=2, column=1)\n",
        "\n",
        "convert_btn = Button(root, text='변환!', command=do_convert)      #하단 버튼\n",
        "convert_btn.grid(row=3, column=1)\n",
        "root.mainloop()"
      ],
      "metadata": {
        "id": "PrkD2AUgkUUD"
      },
      "execution_count": null,
      "outputs": []
    },
    {
      "cell_type": "markdown",
      "source": [
        "5. 데이터를 입력받을 때 사용할 수 있는 다음과 같은 애플리케이션을 작성해보자."
      ],
      "metadata": {
        "id": "OSiDRCdikUb8"
      }
    },
    {
      "cell_type": "code",
      "source": [
        "from tkinter import *\n",
        "fields = '이름', '직업', '국적'\n",
        "\n",
        "def fetch(entries):\n",
        "  for entry in entries:\n",
        "    field = entry[0]\n",
        "    text = entry[1].get()\n",
        "    print('%s: \"%s\"' % (field, text))\n",
        "\n",
        "def makeform(root, fields):\n",
        "  entries = []\n",
        "  for field in fields:\n",
        "    row = Frame(root)\n",
        "    lab = Label(row, width=15, text=field)\n",
        "    ent = Entry(row)\n",
        "    row.pack(side=TOP, fill=X)\n",
        "    lab.pack(side=LEFT)\n",
        "    ent.pack(side=RIGHT, expand=YES, fill=X)\n",
        "    entries.append((field, ent))\n",
        "  return entries\n",
        "\n",
        "root = Tk()\n",
        "ents = makeform(root, fields)\n",
        "root.bind('<Return>', (lambda event, e=ents: fetch(e)))\n",
        "b1 = Button(root, text='보여주기',          #첫번째 버튼입니다\n",
        "     command=(lambda e=ents: fetch(e)))\n",
        "b1.pack(side=LEFT, padx=5, pady=5)\n",
        "b2 = Button(root, text='종료하기', command=root.quit)         #두번째 버튼입니다\n",
        "b2.pack(side=LEFT, padx=5, pady=5)\n",
        "root.mainloop()       "
      ],
      "metadata": {
        "id": "FQoRLVY7keKH"
      },
      "execution_count": null,
      "outputs": []
    },
    {
      "cell_type": "markdown",
      "source": [
        "6. 가위, 바위, 보 게임을 GUI 버전으로 작성해보자. 사용자의 선택은 왼쪽에 이미지로 표시한다. 컴퓨터의 선택은 오른쪽에 이미지로 표시한다. 사용자는 버튼을 눌러서 가위, 바위, 보 중에서 하나를 선택할 수 있다. 사용자의 선택이 끝나면 결과를 화면에 텍스트로 표시한다."
      ],
      "metadata": {
        "id": "jcyU7bNSkeTw"
      }
    },
    {
      "cell_type": "code",
      "source": [
        "from random import *\n",
        "from tkinter import *\n",
        "\n",
        "# 선택 부분입니다.          #나(user)의 선택을 정하는 부분\n",
        "def user_choice_rock():\n",
        "    user_choice = \"rock\"\n",
        "    turn(user_choice)\n",
        "    user_image.configure(image=rock_image)\n",
        "def user_choice_paper():\n",
        "    user_choice = \"paper\"\n",
        "    turn(user_choice)\n",
        "    user_image.configure(image=paper_image)\n",
        "def user_choice_scissors():\n",
        "    user_choice = \"scissors\"\n",
        "    turn(user_choice)\n",
        "    user_image.configure(image=scissors_image)\n",
        "\n",
        "#게임 부분입니다.\n",
        "def turn(user_choice):\n",
        " oppo = ['rock', 'paper', 'scissors']\n",
        " oppo_choice=oppo[randint(0,2)]\n",
        " if(oppo_choice=='rock'):          #컴(opponent)의 선택이 바위일때\n",
        "    oppo_image.configure(image=rock_image)\n",
        "    if(user_choice=='paper'):\n",
        "        turn_result.configure(text=\"사용자 승!\", fg=\"green\")\n",
        "        compare.configure(text=\">>>>>\")\n",
        "    elif(user_choice=='scissors'):\n",
        "        turn_result.configure(text=\"컴퓨터 승!\", fg=\"red\")\n",
        "        compare.configure(text=\"<<<<<\")\n",
        "    else:\n",
        "        turn_result.configure(text=\"무승부\", fg=\"gray\")\n",
        "        compare.configure(text=\"=====\")\n",
        "\n",
        " elif(oppo_choice=='paper'):          #컴(opponent)의 선택이 보일때\n",
        "    oppo_image.configure(image=paper_image)\n",
        "    if(user_choice=='scissors'):\n",
        "        turn_result.configure(text=\"사용자 승!\", fg=\"green\")\n",
        "        compare.configure(text=\">>>>>\")\n",
        "    elif(user_choice=='rock'):\n",
        "        turn_result.configure(text=\"컴퓨터 승!\", fg=\"red\")\n",
        "        compare.configure(text=\"<<<<<\")\n",
        "    else:\n",
        "        turn_result.configure(text=\"무승부\", fg=\"gray\")\n",
        "        compare.configure(text=\"=====\")\n",
        "\n",
        " elif(oppo_choice=='scissors'):          #컴(opponent)의 선택이 가위일때\n",
        "    oppo_image.configure(image=scissors_image)\n",
        "    if(user_choice=='rock'):\n",
        "        turn_result.configure(text=\"사용자 승!\", fg=\"green\")\n",
        "        compare.configure(text=\">>>>>\")\n",
        "    elif(user_choice=='paper'):\n",
        "        turn_result.configure(text=\"컴퓨터 승!\", fg=\"red\")\n",
        "        compare.configure(text=\"<<<<<\")\n",
        "    else:\n",
        "        turn_result.configure(text=\"무승부\", fg=\"gray\")\n",
        "        compare.configure(text=\"=====\")\n",
        "\n",
        "# 메인 프로그램부분입니다.\n",
        "main_window = Tk()             \n",
        "rock_button = Button(main_window, width=20, text=\"바위\", justify=CENTER, command=user_choice_rock)\n",
        "paper_button = Button(main_window, width=20, text=\"보\", justify=CENTER, command=user_choice_paper)\n",
        "scissors_button = Button(main_window, width=20, text=\"가위\", justify=CENTER, command=user_choice_scissors)\n",
        "rock_image = PhotoImage(file=\"c:/Users/user/Desktop/10장 문제/bawi.gif\")\n",
        "paper_image = PhotoImage(file=\"c:/Users/user/Desktop/10장 문제/bo.gif\")    #다운받은 gif이미지들이 있는 위치를 연결\n",
        "scissors_image = PhotoImage(file=\"c:/Users/user/Desktop/10장 문제/gawi.gif\")\n",
        "user_image = Label(text=\"사용자\", image=rock_image)\n",
        "user_image.image = rock_image\n",
        "compare = Label(main_window, justify=CENTER, font=(\"Helvetica\", 30))\n",
        "oppo_image = Label(text=\"컴퓨터\",image=paper_image)\n",
        "oppo_image.image = paper_image\n",
        "turn_result = Label(main_window, width=20, justify=CENTER, font=(\"Helvetica\", 20))\n",
        "\n",
        "# 그리드 생성부분 \n",
        "rock_button.grid(row=5, column=1)\n",
        "paper_button.grid(row=5, column=2)\n",
        "scissors_button.grid(row=5, column=3)\n",
        "user_image.grid(row=3, column=1)\n",
        "compare.grid(row=3, column=2)\n",
        "oppo_image.grid(row=3, column=3)\n",
        "turn_result.grid(row=4, column=2)\n",
        "\n",
        "# GUI화면 루프처리 코드\n",
        "main_window.mainloop()\n",
        "\n",
        "from tkinter import *\n",
        "\n",
        "window = Tk()\n",
        "label1 = Label(window, text=\"로그인 하세요!!!\", font=(\"Helvetica\", 20))\n",
        "label1.pack()\n",
        "label2 = Label(window, text=\"아이디\")\n",
        "label2.pack()\n",
        "entry1 = Entry(window)\n",
        "entry1.pack()\n",
        "label2 = Label(window, text=\"패스워드\")\n",
        "label2.pack()\n",
        "entry2 = Entry(window)\n",
        "entry2.pack()\n",
        "button1 = Button(window, text=\"로그인\")\n",
        "button1.pack()\n",
        "window.mainloop()\n",
        "\n",
        "\n",
        "  "
      ],
      "metadata": {
        "id": "ogdDAZxBk1dQ"
      },
      "execution_count": null,
      "outputs": []
    }
  ]
}